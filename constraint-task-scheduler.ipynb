{
 "cells": [
  {
   "cell_type": "code",
   "execution_count": 1245,
   "metadata": {
    "collapsed": false
   },
   "outputs": [],
   "source": [
    "from constraint import *\n",
    "from itertools import *"
   ]
  },
  {
   "cell_type": "markdown",
   "metadata": {
    "collapsed": false
   },
   "source": [
    "# Configuration and Setup"
   ]
  },
  {
   "cell_type": "code",
   "execution_count": 1246,
   "metadata": {
    "collapsed": true
   },
   "outputs": [],
   "source": [
    "# Configure day naming constants\n",
    "M,T,W,TH,F = ['monday','tuesday','wednesday','thursday','friday']"
   ]
  },
  {
   "cell_type": "code",
   "execution_count": 1247,
   "metadata": {
    "collapsed": false
   },
   "outputs": [],
   "source": [
    "# Configure number of free hours each day\n",
    "#\n",
    "# Sample :\n",
    "#   free_time[W] = 3  # Sets wednesday to 3 free hours\n",
    "\n",
    "free_time = {}\n",
    "free_time[M]  = 2  # Monday\n",
    "free_time[T]  = 2  # Tuesday\n",
    "free_time[W]  = 2  # Wednesday\n",
    "free_time[TH] = 2  # Thursday\n",
    "free_time[F]  = 1  # Friday"
   ]
  },
  {
   "cell_type": "code",
   "execution_count": 1248,
   "metadata": {
    "collapsed": false
   },
   "outputs": [],
   "source": [
    "# Configure tasks to complete this week\n",
    "#\n",
    "# Sample tasks\n",
    "#   tasks['name'] = { 'effort': 1 }\n",
    "\n",
    "tasks = {}\n",
    "tasks['laundry'] = { 'effort': 2 }\n",
    "tasks['pay bills'] = { 'effort': 2 }\n",
    "tasks['wash the car'] = { 'effort': 3 }"
   ]
  },
  {
   "cell_type": "markdown",
   "metadata": {},
   "source": [
    "# Precalculate intermediate values"
   ]
  },
  {
   "cell_type": "code",
   "execution_count": 1249,
   "metadata": {
    "collapsed": false
   },
   "outputs": [],
   "source": [
    "# Calculate helper variables\n",
    "# Descriptions below\n",
    "total_free_hours = 0\n",
    "hour_to_day = {}\n",
    "\n",
    "for day in [M,T,W,TH,F]:\n",
    "    for hour in range(0,free_time[day]):\n",
    "      hour_to_day[total_free_hours] = day\n",
    "      total_free_hours += 1\n",
    "\n",
    "hours_in_week = range(0,total_free_hours)"
   ]
  },
  {
   "cell_type": "code",
   "execution_count": 1250,
   "metadata": {
    "collapsed": false
   },
   "outputs": [
    {
     "data": {
      "text/plain": [
       "{0: 'monday',\n",
       " 1: 'monday',\n",
       " 2: 'tuesday',\n",
       " 3: 'tuesday',\n",
       " 4: 'wednesday',\n",
       " 5: 'wednesday',\n",
       " 6: 'thursday',\n",
       " 7: 'thursday',\n",
       " 8: 'friday'}"
      ]
     },
     "execution_count": 1250,
     "metadata": {},
     "output_type": "execute_result"
    }
   ],
   "source": [
    "# hour_to_day is a mapping of hour in week to a day\n",
    "hour_to_day"
   ]
  },
  {
   "cell_type": "code",
   "execution_count": 1251,
   "metadata": {
    "collapsed": false
   },
   "outputs": [
    {
     "data": {
      "text/plain": [
       "9"
      ]
     },
     "execution_count": 1251,
     "metadata": {},
     "output_type": "execute_result"
    }
   ],
   "source": [
    "# total_free_hours is a sum of all the free hours this week \n",
    "total_free_hours"
   ]
  },
  {
   "cell_type": "code",
   "execution_count": 1252,
   "metadata": {
    "collapsed": false
   },
   "outputs": [
    {
     "data": {
      "text/plain": [
       "[0, 1, 2, 3, 4, 5, 6, 7, 8]"
      ]
     },
     "execution_count": 1252,
     "metadata": {},
     "output_type": "execute_result"
    }
   ],
   "source": [
    "# hours_in_week is an incremental array of hours in a week\n",
    "hours_in_week"
   ]
  },
  {
   "cell_type": "markdown",
   "metadata": {
    "collapsed": true
   },
   "source": [
    "# Defining the constraint solver"
   ]
  },
  {
   "cell_type": "code",
   "execution_count": 1253,
   "metadata": {
    "collapsed": false
   },
   "outputs": [],
   "source": [
    "problem = Problem()\n",
    "# task.keys() , i.e. ['laundry', 'pay bills', ...] are the variables\n",
    "# hours_in_week, i.e. [0,1,2,3,...] are the possible values for the variables\n",
    "# \n",
    "# The constraint solver will try assigning different hours of the week\n",
    "# to the variables, and reject all those that do not meet the constraints\n",
    "problem.addVariables(tasks.keys(),hours_in_week)"
   ]
  },
  {
   "cell_type": "markdown",
   "metadata": {},
   "source": [
    "## Add Constraint: Two tasks cannot begin at the same time"
   ]
  },
  {
   "cell_type": "code",
   "execution_count": 1254,
   "metadata": {
    "collapsed": true
   },
   "outputs": [],
   "source": [
    "# Add a constraint so that no task begins on an identical hour to another task\n",
    "problem.addConstraint(AllDifferentConstraint())"
   ]
  },
  {
   "cell_type": "markdown",
   "metadata": {},
   "source": [
    "## Add Constraint: A task needs enough time to complaint before the week ends"
   ]
  },
  {
   "cell_type": "code",
   "execution_count": 1255,
   "metadata": {
    "collapsed": false
   },
   "outputs": [],
   "source": [
    "# Iterate over each task\n",
    "# Add a constraint that validates the start time of a task allows enough time to complete it\n",
    "for task_name in tasks.keys():\n",
    " problem.addConstraint(lambda start: start <= total_free_hours - tasks[task_name]['effort'], [task_name])"
   ]
  },
  {
   "cell_type": "markdown",
   "metadata": {},
   "source": [
    "## Add Constraint: Two tasks can't be worked on at the same time"
   ]
  },
  {
   "cell_type": "code",
   "execution_count": 1275,
   "metadata": {
    "collapsed": false
   },
   "outputs": [],
   "source": [
    "for two_tasks in permutations(tasks.keys(),2):\n",
    "    problem.addConstraint(lambda first_task, second_task: first_task + tasks[two_tasks[0]]['effort'] <= second_task if first_task < second_task else True, [two_tasks[0], two_tasks[1]])\n",
    "    problem.addConstraint(lambda first_task, second_task: second_task + tasks[two_tasks[1]]['effort'] <= first_task if first_task > second_task else True, [two_tasks[0], two_tasks[1]])"
   ]
  },
  {
   "cell_type": "markdown",
   "metadata": {},
   "source": [
    "# Get Solutions"
   ]
  },
  {
   "cell_type": "code",
   "execution_count": 1276,
   "metadata": {
    "collapsed": false
   },
   "outputs": [
    {
     "data": {
      "text/plain": [
       "{'laundry': 7, 'pay bills': 1, 'wash the car': 4}"
      ]
     },
     "execution_count": 1276,
     "metadata": {},
     "output_type": "execute_result"
    }
   ],
   "source": [
    "# Get a solution\n",
    "solution = problem.getSolution()\n",
    "solution"
   ]
  },
  {
   "cell_type": "code",
   "execution_count": 1277,
   "metadata": {
    "collapsed": false
   },
   "outputs": [
    {
     "data": {
      "text/plain": [
       "24"
      ]
     },
     "execution_count": 1277,
     "metadata": {},
     "output_type": "execute_result"
    }
   ],
   "source": [
    "number = problem.getSolutions()\n",
    "len(number)"
   ]
  },
  {
   "cell_type": "markdown",
   "metadata": {},
   "source": [
    "# Pretty Print Solution"
   ]
  },
  {
   "cell_type": "code",
   "execution_count": 1278,
   "metadata": {
    "collapsed": false
   },
   "outputs": [],
   "source": [
    "def print_schedule():\n",
    "    prev_day = None\n",
    "    for hour in hour_to_day.keys():\n",
    "        # Print day\n",
    "        if hour_to_day[hour] != prev_day :\n",
    "            print \"\\n\",\"== \"+ hour_to_day[hour] + \" ==\"\n",
    "            prev_day = hour_to_day[hour]\n",
    "        # Print task name\n",
    "        current_task = None\n",
    "        for task_name in solution:\n",
    "            if (hour == solution[task_name]):\n",
    "                if ( (current_task == None) or (solution[current_task] < solution[task_name]) ):\n",
    "                    current_task = task_name\n",
    "        if(current_task != None):\n",
    "            print \"start -> \",current_task, tasks[current_task]\n",
    "        else:\n",
    "            print \"-\""
   ]
  },
  {
   "cell_type": "code",
   "execution_count": 1279,
   "metadata": {
    "collapsed": false
   },
   "outputs": [
    {
     "name": "stdout",
     "output_type": "stream",
     "text": [
      "\n",
      "== monday ==\n",
      "-\n",
      "start ->  pay bills {'effort': 2}\n",
      "\n",
      "== tuesday ==\n",
      "-\n",
      "-\n",
      "\n",
      "== wednesday ==\n",
      "start ->  wash the car {'effort': 3}\n",
      "-\n",
      "\n",
      "== thursday ==\n",
      "-\n",
      "start ->  laundry {'effort': 2}\n",
      "\n",
      "== friday ==\n",
      "-\n"
     ]
    }
   ],
   "source": [
    "print_schedule()"
   ]
  },
  {
   "cell_type": "code",
   "execution_count": null,
   "metadata": {
    "collapsed": true
   },
   "outputs": [],
   "source": []
  }
 ],
 "metadata": {
  "kernelspec": {
   "display_name": "Python 2",
   "language": "python",
   "name": "python2"
  },
  "language_info": {
   "codemirror_mode": {
    "name": "ipython",
    "version": 2
   },
   "file_extension": ".py",
   "mimetype": "text/x-python",
   "name": "python",
   "nbconvert_exporter": "python",
   "pygments_lexer": "ipython2",
   "version": "2.7.1"
  }
 },
 "nbformat": 4,
 "nbformat_minor": 0
}
