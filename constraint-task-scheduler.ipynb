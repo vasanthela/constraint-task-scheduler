{
 "cells": [
  {
   "cell_type": "code",
   "execution_count": 119,
   "metadata": {
    "collapsed": false
   },
   "outputs": [],
   "source": [
    "from constraint import *\n",
    "from itertools import *"
   ]
  },
  {
   "cell_type": "markdown",
   "metadata": {
    "collapsed": false
   },
   "source": [
    "# Configuration and Setup"
   ]
  },
  {
   "cell_type": "code",
   "execution_count": 120,
   "metadata": {
    "collapsed": true
   },
   "outputs": [],
   "source": [
    "# Configure day naming constants\n",
    "M,T,W,TH,F = ['monday','tuesday','wednesday','thursday','friday']"
   ]
  },
  {
   "cell_type": "code",
   "execution_count": 121,
   "metadata": {
    "collapsed": false
   },
   "outputs": [],
   "source": [
    "# Configure number of free hours each day\n",
    "#\n",
    "# Sample :\n",
    "#   free_time[W] = 3  # Sets wednesday to 3 free hours\n",
    "\n",
    "free_time = {}\n",
    "free_time[M]  = 2  # Monday\n",
    "free_time[T]  = 1  # Tuesday\n",
    "free_time[W]  = 1  # Wednesday\n",
    "free_time[TH] = 1  # Thursday\n",
    "free_time[F]  = 1  # Friday"
   ]
  },
  {
   "cell_type": "code",
   "execution_count": 122,
   "metadata": {
    "collapsed": false
   },
   "outputs": [],
   "source": [
    "# Configure tasks to complete this week\n",
    "#\n",
    "# Sample tasks\n",
    "#   tasks['name'] = { 'effort': 1 }\n",
    "\n",
    "tasks = {}\n",
    "tasks['laundry'] = { 'effort': 2 }\n",
    "tasks['pay bills'] = { 'effort': 1 }\n",
    "tasks['wash the car'] = { 'effort': 3 }"
   ]
  },
  {
   "cell_type": "markdown",
   "metadata": {},
   "source": [
    "# Precalculate intermediate values"
   ]
  },
  {
   "cell_type": "code",
   "execution_count": 123,
   "metadata": {
    "collapsed": false
   },
   "outputs": [],
   "source": [
    "# Calculate helper variables\n",
    "# Descriptions below\n",
    "total_free_hours = 0\n",
    "hour_to_day = {}\n",
    "\n",
    "for day in [M,T,W,TH,F]:\n",
    "    for hour in range(0,free_time[day]):\n",
    "      hour_to_day[total_free_hours] = day\n",
    "      total_free_hours += 1\n",
    "\n",
    "hours_in_week = range(0,total_free_hours)"
   ]
  },
  {
   "cell_type": "code",
   "execution_count": 124,
   "metadata": {
    "collapsed": false
   },
   "outputs": [
    {
     "data": {
      "text/plain": [
       "{0: 'monday',\n",
       " 1: 'monday',\n",
       " 2: 'tuesday',\n",
       " 3: 'wednesday',\n",
       " 4: 'thursday',\n",
       " 5: 'friday'}"
      ]
     },
     "execution_count": 124,
     "metadata": {},
     "output_type": "execute_result"
    }
   ],
   "source": [
    "# hour_to_day is a mapping of hour in week to a day\n",
    "hour_to_day"
   ]
  },
  {
   "cell_type": "code",
   "execution_count": 125,
   "metadata": {
    "collapsed": false
   },
   "outputs": [
    {
     "data": {
      "text/plain": [
       "6"
      ]
     },
     "execution_count": 125,
     "metadata": {},
     "output_type": "execute_result"
    }
   ],
   "source": [
    "# total_free_hours is a sum of all the free hours this week \n",
    "total_free_hours"
   ]
  },
  {
   "cell_type": "code",
   "execution_count": 126,
   "metadata": {
    "collapsed": false
   },
   "outputs": [
    {
     "data": {
      "text/plain": [
       "[0, 1, 2, 3, 4, 5]"
      ]
     },
     "execution_count": 126,
     "metadata": {},
     "output_type": "execute_result"
    }
   ],
   "source": [
    "# hours_in_week is an incremental array of hours in a week\n",
    "hours_in_week"
   ]
  },
  {
   "cell_type": "markdown",
   "metadata": {
    "collapsed": true
   },
   "source": [
    "# Defining the constraint solver"
   ]
  },
  {
   "cell_type": "code",
   "execution_count": 127,
   "metadata": {
    "collapsed": false
   },
   "outputs": [],
   "source": [
    "problem = Problem()\n",
    "# task.keys() , i.e. ['laundry', 'pay bills', ...] are the variables\n",
    "# hours_in_week, i.e. [0,1,2,3,...] are the possible values for the variables\n",
    "# \n",
    "# The constraint solver will try assigning different hours of the week\n",
    "# to the variables, and reject all those that do not meet the constraints\n",
    "problem.addVariables(tasks.keys(),hours_in_week)"
   ]
  },
  {
   "cell_type": "markdown",
   "metadata": {},
   "source": [
    "## Add Constraint: Two tasks cannot begin at the same time"
   ]
  },
  {
   "cell_type": "code",
   "execution_count": 128,
   "metadata": {
    "collapsed": true
   },
   "outputs": [],
   "source": [
    "# Add a constraint so that no task begins on an identical hour to another task\n",
    "problem.addConstraint(AllDifferentConstraint())"
   ]
  },
  {
   "cell_type": "markdown",
   "metadata": {},
   "source": [
    "## Add Constraint: A task needs enough time to complaint before the week ends"
   ]
  },
  {
   "cell_type": "code",
   "execution_count": 129,
   "metadata": {
    "collapsed": false
   },
   "outputs": [],
   "source": [
    "# Iterate over each task\n",
    "# Add a constraint that validates the start time of a task allows enough time to complete it\n",
    "for task_name in tasks.keys():\n",
    " problem.addConstraint(lambda start: start <= total_free_hours - tasks[task_name]['effort'], [task_name])"
   ]
  },
  {
   "cell_type": "markdown",
   "metadata": {},
   "source": [
    "# Get Solutions"
   ]
  },
  {
   "cell_type": "code",
   "execution_count": 130,
   "metadata": {
    "collapsed": false
   },
   "outputs": [
    {
     "data": {
      "text/plain": [
       "{'laundry': 4, 'pay bills': 3, 'wash the car': 2}"
      ]
     },
     "execution_count": 130,
     "metadata": {},
     "output_type": "execute_result"
    }
   ],
   "source": [
    "# Get a solution\n",
    "solution = problem.getSolution()\n",
    "solution"
   ]
  }
 ],
 "metadata": {
  "kernelspec": {
   "display_name": "Python 2",
   "language": "python",
   "name": "python2"
  },
  "language_info": {
   "codemirror_mode": {
    "name": "ipython",
    "version": 2
   },
   "file_extension": ".py",
   "mimetype": "text/x-python",
   "name": "python",
   "nbconvert_exporter": "python",
   "pygments_lexer": "ipython2",
   "version": "2.7.1"
  }
 },
 "nbformat": 4,
 "nbformat_minor": 0
}
