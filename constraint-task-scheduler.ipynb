{
 "cells": [
  {
   "cell_type": "markdown",
   "metadata": {
    "collapsed": false
   },
   "source": [
    "# Constraint Programming Task Scheduler\n",
    "\n",
    "If you have a bunch of tasks to do in a week, and you have only so many hours in each day of the week, how do you figure out what to do and when?\n",
    "\n",
    "This is a IPython notebook using constraint programming to answer that question.\n",
    "\n",
    "- Tasks are defined with work effort in hours\n",
    "- The schedule for the week is defined by assigning each day with available free hours. \n"
   ]
  },
  {
   "cell_type": "code",
   "execution_count": 1387,
   "metadata": {
    "collapsed": true
   },
   "outputs": [],
   "source": [
    "from constraint import *\n",
    "from itertools import *"
   ]
  },
  {
   "cell_type": "markdown",
   "metadata": {
    "collapsed": false
   },
   "source": [
    "# Configuration and Setup"
   ]
  },
  {
   "cell_type": "code",
   "execution_count": 1388,
   "metadata": {
    "collapsed": false
   },
   "outputs": [],
   "source": [
    "# Configure day naming constants\n",
    "M,T,W,TH,F,Sat,Sun = ['monday','tuesday','wednesday','thursday','friday','saturday','sunday']"
   ]
  },
  {
   "cell_type": "code",
   "execution_count": 1389,
   "metadata": {
    "collapsed": false
   },
   "outputs": [],
   "source": [
    "# Configure number of free hours each day\n",
    "#\n",
    "# Sample :\n",
    "#   free_time[W] = 3  # Sets wednesday to 3 free hours\n",
    "\n",
    "free_time = {}\n",
    "free_time[M]  = 5  # Monday\n",
    "free_time[T]  = 4  # Tuesday\n",
    "free_time[W]  = 2  # Wednesday\n",
    "free_time[TH] = 5  # Thursday\n",
    "free_time[F]  = 1  # Friday\n",
    "free_time[Sat]  = 0  # Saturday\n",
    "free_time[Sun]  = 2  # Sunday"
   ]
  },
  {
   "cell_type": "code",
   "execution_count": 1390,
   "metadata": {
    "collapsed": false
   },
   "outputs": [],
   "source": [
    "# Configure tasks to complete this week\n",
    "#\n",
    "# Sample tasks\n",
    "#   tasks['name'] = { 'effort': 1 }\n",
    "\n",
    "tasks = {}\n",
    "tasks['laundry'] = { 'effort': 2 }\n",
    "tasks['pay bills'] = { 'effort': 2 }\n",
    "tasks['wash the car'] = { 'effort': 3 }\n",
    "tasks['mow the lawn'] = { 'effort': 3 }\n",
    "tasks['write blog post'] = { 'effort': 1 }"
   ]
  },
  {
   "cell_type": "markdown",
   "metadata": {},
   "source": [
    "# Precalculate intermediate values"
   ]
  },
  {
   "cell_type": "code",
   "execution_count": 1391,
   "metadata": {
    "collapsed": false
   },
   "outputs": [],
   "source": [
    "# Calculate helper variables\n",
    "# Descriptions below\n",
    "total_free_hours = 0\n",
    "hour_to_day = {}\n",
    "\n",
    "for day in [M,T,W,TH,F,Sat,Sun]:\n",
    "    for hour in range(0,free_time[day]):\n",
    "      hour_to_day[total_free_hours] = day\n",
    "      total_free_hours += 1\n",
    "\n",
    "hours_in_week = range(0,total_free_hours)"
   ]
  },
  {
   "cell_type": "code",
   "execution_count": 1392,
   "metadata": {
    "collapsed": false
   },
   "outputs": [
    {
     "data": {
      "text/plain": [
       "{0: 'monday',\n",
       " 1: 'monday',\n",
       " 2: 'monday',\n",
       " 3: 'monday',\n",
       " 4: 'monday',\n",
       " 5: 'tuesday',\n",
       " 6: 'tuesday',\n",
       " 7: 'tuesday',\n",
       " 8: 'tuesday',\n",
       " 9: 'wednesday',\n",
       " 10: 'wednesday',\n",
       " 11: 'thursday',\n",
       " 12: 'thursday',\n",
       " 13: 'thursday',\n",
       " 14: 'thursday',\n",
       " 15: 'thursday',\n",
       " 16: 'friday',\n",
       " 17: 'sunday',\n",
       " 18: 'sunday'}"
      ]
     },
     "execution_count": 1392,
     "metadata": {},
     "output_type": "execute_result"
    }
   ],
   "source": [
    "# hour_to_day is a mapping of hour in week to a day\n",
    "hour_to_day"
   ]
  },
  {
   "cell_type": "code",
   "execution_count": 1393,
   "metadata": {
    "collapsed": false
   },
   "outputs": [
    {
     "data": {
      "text/plain": [
       "19"
      ]
     },
     "execution_count": 1393,
     "metadata": {},
     "output_type": "execute_result"
    }
   ],
   "source": [
    "# total_free_hours is a sum of all the free hours this week \n",
    "total_free_hours"
   ]
  },
  {
   "cell_type": "code",
   "execution_count": 1394,
   "metadata": {
    "collapsed": false
   },
   "outputs": [
    {
     "data": {
      "text/plain": [
       "[0, 1, 2, 3, 4, 5, 6, 7, 8, 9, 10, 11, 12, 13, 14, 15, 16, 17, 18]"
      ]
     },
     "execution_count": 1394,
     "metadata": {},
     "output_type": "execute_result"
    }
   ],
   "source": [
    "# hours_in_week is an incremental array of free hours this week\n",
    "hours_in_week"
   ]
  },
  {
   "cell_type": "markdown",
   "metadata": {
    "collapsed": true
   },
   "source": [
    "# Defining the constraint solver"
   ]
  },
  {
   "cell_type": "code",
   "execution_count": 1395,
   "metadata": {
    "collapsed": false
   },
   "outputs": [],
   "source": [
    "problem = Problem()\n",
    "# task.keys() , i.e. ['laundry', 'pay bills', ...] are the variables\n",
    "# hours_in_week, i.e. [0,1,2,3,...] are the possible values for the variables\n",
    "# \n",
    "# The constraint solver will try assigning different hours of the week\n",
    "# to the variables, and reject all those that do not meet the constraints\n",
    "problem.addVariables(tasks.keys(),hours_in_week)"
   ]
  },
  {
   "cell_type": "markdown",
   "metadata": {},
   "source": [
    "## Add Constraint: Two tasks cannot begin at the same time"
   ]
  },
  {
   "cell_type": "code",
   "execution_count": 1396,
   "metadata": {
    "collapsed": true
   },
   "outputs": [],
   "source": [
    "# Add a constraint so that no task begins on an identical hour to another task\n",
    "problem.addConstraint(AllDifferentConstraint())"
   ]
  },
  {
   "cell_type": "markdown",
   "metadata": {},
   "source": [
    "## Add Constraint: A task needs enough time to complete before the week ends"
   ]
  },
  {
   "cell_type": "code",
   "execution_count": 1397,
   "metadata": {
    "collapsed": false
   },
   "outputs": [],
   "source": [
    "# Iterate over each task\n",
    "# Add a constraint that validates the start time of a task allows enough time to complete it\n",
    "for task_name in tasks.keys():\n",
    " problem.addConstraint(lambda start: start <= total_free_hours - tasks[task_name]['effort'], [task_name])"
   ]
  },
  {
   "cell_type": "markdown",
   "metadata": {},
   "source": [
    "## Add Constraint: Two tasks can't be worked on at the same time"
   ]
  },
  {
   "cell_type": "code",
   "execution_count": 1398,
   "metadata": {
    "collapsed": false
   },
   "outputs": [],
   "source": [
    "# Iterate over each set of possible tasks\n",
    "# Add a constraint that validates the start time + work effort is enough to complete the task\n",
    "# before the next task should begin\n",
    "for two_tasks in permutations(tasks.keys(),2):\n",
    "    problem.addConstraint(lambda first_task, second_task: first_task + tasks[two_tasks[0]]['effort'] <= second_task if first_task < second_task else True, [two_tasks[0], two_tasks[1]])\n",
    "    problem.addConstraint(lambda first_task, second_task: second_task + tasks[two_tasks[1]]['effort'] <= first_task if first_task > second_task else True, [two_tasks[0], two_tasks[1]])"
   ]
  },
  {
   "cell_type": "markdown",
   "metadata": {},
   "source": [
    "# Solution"
   ]
  },
  {
   "cell_type": "markdown",
   "metadata": {},
   "source": [
    "## Possible Number of Solutions"
   ]
  },
  {
   "cell_type": "code",
   "execution_count": 1399,
   "metadata": {
    "collapsed": false
   },
   "outputs": [
    {
     "data": {
      "text/plain": [
       "15120"
      ]
     },
     "execution_count": 1399,
     "metadata": {},
     "output_type": "execute_result"
    }
   ],
   "source": [
    "len(problem.getSolutions())"
   ]
  },
  {
   "cell_type": "markdown",
   "metadata": {},
   "source": [
    "## Get Solution"
   ]
  },
  {
   "cell_type": "code",
   "execution_count": 1400,
   "metadata": {
    "collapsed": false
   },
   "outputs": [
    {
     "data": {
      "text/plain": [
       "{'laundry': 16,\n",
       " 'mow the lawn': 2,\n",
       " 'pay bills': 13,\n",
       " 'wash the car': 5,\n",
       " 'write blog post': 10}"
      ]
     },
     "execution_count": 1400,
     "metadata": {},
     "output_type": "execute_result"
    }
   ],
   "source": [
    "# Get a solution\n",
    "solution = problem.getSolution()\n",
    "solution"
   ]
  },
  {
   "cell_type": "markdown",
   "metadata": {},
   "source": [
    "## Pretty Print Solution"
   ]
  },
  {
   "cell_type": "code",
   "execution_count": 1401,
   "metadata": {
    "collapsed": false
   },
   "outputs": [],
   "source": [
    "def print_schedule():\n",
    "    prev_day = None\n",
    "    for hour in hour_to_day.keys():\n",
    "        # Print day\n",
    "        if hour_to_day[hour] != prev_day :\n",
    "            print \"\\n\",\"== \"+ hour_to_day[hour] + \" ==\"\n",
    "            prev_day = hour_to_day[hour]\n",
    "        # Print task name\n",
    "        current_task = None\n",
    "        for task_name in solution:\n",
    "            if (hour == solution[task_name]):\n",
    "                if ( (current_task == None) or (solution[current_task] < solution[task_name]) ):\n",
    "                    current_task = task_name\n",
    "        if(current_task != None):\n",
    "            print \"  + \",current_task, tasks[current_task]\n",
    "        else:\n",
    "            print \"  -\""
   ]
  },
  {
   "cell_type": "markdown",
   "metadata": {},
   "source": [
    "# Print Schedule\n",
    "\n",
    "The following is a possible schedule that will meet the constraints placed on the tasks.\n",
    "\n",
    "Tasks are assumed to be started and flow through to the next date.\n",
    "That is why you may see a task start on a certain day, but get completed on another."
   ]
  },
  {
   "cell_type": "code",
   "execution_count": 1402,
   "metadata": {
    "collapsed": false
   },
   "outputs": [
    {
     "name": "stdout",
     "output_type": "stream",
     "text": [
      "\n",
      "== monday ==\n",
      "  -\n",
      "  -\n",
      "  +  mow the lawn {'effort': 3}\n",
      "  -\n",
      "  -\n",
      "\n",
      "== tuesday ==\n",
      "  +  wash the car {'effort': 3}\n",
      "  -\n",
      "  -\n",
      "  -\n",
      "\n",
      "== wednesday ==\n",
      "  -\n",
      "  +  write blog post {'effort': 1}\n",
      "\n",
      "== thursday ==\n",
      "  -\n",
      "  -\n",
      "  +  pay bills {'effort': 2}\n",
      "  -\n",
      "  -\n",
      "\n",
      "== friday ==\n",
      "  +  laundry {'effort': 2}\n",
      "\n",
      "== sunday ==\n",
      "  -\n",
      "  -\n"
     ]
    }
   ],
   "source": [
    "print_schedule()"
   ]
  }
 ],
 "metadata": {
  "kernelspec": {
   "display_name": "Python 2",
   "language": "python",
   "name": "python2"
  },
  "language_info": {
   "codemirror_mode": {
    "name": "ipython",
    "version": 2
   },
   "file_extension": ".py",
   "mimetype": "text/x-python",
   "name": "python",
   "nbconvert_exporter": "python",
   "pygments_lexer": "ipython2",
   "version": "2.7.1"
  }
 },
 "nbformat": 4,
 "nbformat_minor": 0
}
