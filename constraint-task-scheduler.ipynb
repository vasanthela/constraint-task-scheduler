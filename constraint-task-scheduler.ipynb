{
 "cells": [
  {
   "cell_type": "code",
   "execution_count": 1,
   "metadata": {
    "collapsed": false
   },
   "outputs": [],
   "source": [
    "from constraint import *\n",
    "from itertools import *"
   ]
  },
  {
   "cell_type": "code",
   "execution_count": 83,
   "metadata": {
    "collapsed": false
   },
   "outputs": [],
   "source": [
    "# Configuration and Setup\n",
    "#\n",
    "# Per day naming constants\n",
    "M = 'monday'\n",
    "T = 'tuesday'\n",
    "W = 'wednesday'\n",
    "TH = 'thursday'\n",
    "F = 'friday'"
   ]
  },
  {
   "cell_type": "code",
   "execution_count": 84,
   "metadata": {
    "collapsed": false
   },
   "outputs": [],
   "source": [
    "# Configure number of free hours each day\n",
    "#\n",
    "# Sample :\n",
    "#   free_hours_per_day[W] = 3  # Sets wednesday to 3 free hours\n",
    "\n",
    "free_hours_per_day = {}\n",
    "free_hours_per_day[M]  = 2  # Monday\n",
    "free_hours_per_day[T]  = 1  # Tuesday\n",
    "free_hours_per_day[W]  = 1  # Wednesday\n",
    "free_hours_per_day[TH] = 1  # Thursday\n",
    "free_hours_per_day[F]  = 1  # Friday"
   ]
  },
  {
   "cell_type": "code",
   "execution_count": 85,
   "metadata": {
    "collapsed": false
   },
   "outputs": [],
   "source": [
    "# Configure tasks to complete this week\n",
    "#\n",
    "# Sample tasks\n",
    "#   tasks['name'] = { 'effort': 1 }\n",
    "#   tasks['name'] = { 'effort': 3, 'due': M }\n",
    "\n",
    "tasks = {}\n",
    "tasks['laundry'] = { 'effort': 1, 'due': M }\n",
    "tasks['pay bills'] = { 'effort': 1, 'due': T }\n",
    "tasks['wash the car'] = { 'effort': 1 }"
   ]
  },
  {
   "cell_type": "code",
   "execution_count": 86,
   "metadata": {
    "collapsed": false
   },
   "outputs": [],
   "source": [
    "total_free_hours = 0\n",
    "hour_to_day = {}\n",
    "for day in [M,T,W,TH,F]:\n",
    "    for hour in range(0,free_hours_per_day[day]):\n",
    "      hour_to_day[total_free_hours] = day\n",
    "      total_free_hours += 1"
   ]
  },
  {
   "cell_type": "code",
   "execution_count": 87,
   "metadata": {
    "collapsed": false
   },
   "outputs": [
    {
     "data": {
      "text/plain": [
       "{0: 'monday',\n",
       " 1: 'monday',\n",
       " 2: 'tuesday',\n",
       " 3: 'wednesday',\n",
       " 4: 'thursday',\n",
       " 5: 'friday'}"
      ]
     },
     "execution_count": 87,
     "metadata": {},
     "output_type": "execute_result"
    }
   ],
   "source": [
    "# hour_to_day is a mapping of hour in week to a day\n",
    "hour_to_day"
   ]
  },
  {
   "cell_type": "code",
   "execution_count": 88,
   "metadata": {
    "collapsed": false
   },
   "outputs": [
    {
     "data": {
      "text/plain": [
       "6"
      ]
     },
     "execution_count": 88,
     "metadata": {},
     "output_type": "execute_result"
    }
   ],
   "source": [
    "# total_free_hours is a sum of all the free hours this week \n",
    "total_free_hours"
   ]
  },
  {
   "cell_type": "code",
   "execution_count": 89,
   "metadata": {
    "collapsed": false
   },
   "outputs": [
    {
     "data": {
      "text/plain": [
       "[0, 1, 2, 3, 4, 5]"
      ]
     },
     "execution_count": 89,
     "metadata": {},
     "output_type": "execute_result"
    }
   ],
   "source": [
    "hours_in_week = range(0,total_free_hours)\n",
    "hours_in_week"
   ]
  },
  {
   "cell_type": "code",
   "execution_count": 90,
   "metadata": {
    "collapsed": false
   },
   "outputs": [],
   "source": [
    "#task_schedules = list(itertools.product(hours_in_week, repeat=len(tasks)))"
   ]
  },
  {
   "cell_type": "code",
   "execution_count": 91,
   "metadata": {
    "collapsed": true
   },
   "outputs": [],
   "source": [
    "# Begin defining the constraint solver"
   ]
  },
  {
   "cell_type": "code",
   "execution_count": 92,
   "metadata": {
    "collapsed": false
   },
   "outputs": [],
   "source": [
    "problem = Problem()\n",
    "problem.addVariables(tasks.keys(),hours_in_week)"
   ]
  },
  {
   "cell_type": "code",
   "execution_count": 93,
   "metadata": {
    "collapsed": true
   },
   "outputs": [],
   "source": [
    "# Add a constraint so that no task begin on an identical hour\n",
    "problem.addConstraint(AllDifferentConstraint())"
   ]
  },
  {
   "cell_type": "code",
   "execution_count": 94,
   "metadata": {
    "collapsed": false
   },
   "outputs": [
    {
     "data": {
      "text/plain": [
       "{'laundry': 5, 'pay bills': 4, 'wash the car': 3}"
      ]
     },
     "execution_count": 94,
     "metadata": {},
     "output_type": "execute_result"
    }
   ],
   "source": [
    "# Get a solution\n",
    "solution = problem.getSolution()\n",
    "solution"
   ]
  },
  {
   "cell_type": "code",
   "execution_count": null,
   "metadata": {
    "collapsed": true
   },
   "outputs": [],
   "source": []
  }
 ],
 "metadata": {
  "kernelspec": {
   "display_name": "Python 2",
   "language": "python",
   "name": "python2"
  },
  "language_info": {
   "codemirror_mode": {
    "name": "ipython",
    "version": 2
   },
   "file_extension": ".py",
   "mimetype": "text/x-python",
   "name": "python",
   "nbconvert_exporter": "python",
   "pygments_lexer": "ipython2",
   "version": "2.7.1"
  }
 },
 "nbformat": 4,
 "nbformat_minor": 0
}
